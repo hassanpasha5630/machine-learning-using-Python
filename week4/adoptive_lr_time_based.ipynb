{
 "cells": [
  {
   "cell_type": "code",
   "execution_count": 1,
   "metadata": {},
   "outputs": [
    {
     "name": "stderr",
     "output_type": "stream",
     "text": [
      "Using TensorFlow backend.\n"
     ]
    }
   ],
   "source": [
    "import numpy\n",
    "import pandas as pd\n",
    "from keras.models import Sequential\n",
    "from keras.layers import Dense\n",
    "from keras.wrappers.scikit_learn import KerasClassifier\n",
    "from sklearn.model_selection import cross_val_score\n",
    "from sklearn.preprocessing import LabelEncoder\n",
    "from sklearn.model_selection import StratifiedKFold\n",
    "from sklearn.preprocessing import StandardScaler\n",
    "from sklearn.pipeline import Pipeline\n",
    "from keras.optimizers import SGD\n"
   ]
  },
  {
   "cell_type": "code",
   "execution_count": 10,
   "metadata": {
    "collapsed": true
   },
   "outputs": [],
   "source": [
    "# fix random seed for reproducibility\n",
    "seed = 7\n",
    "numpy.random.seed(seed)"
   ]
  },
  {
   "cell_type": "code",
   "execution_count": 15,
   "metadata": {},
   "outputs": [
    {
     "name": "stdout",
     "output_type": "stream",
     "text": [
      "(569, 30)\n",
      "(569,)\n"
     ]
    }
   ],
   "source": [
    "#load dataset\n",
    "from sklearn.datasets import load_breast_cancer\n",
    "bc,tar = load_breast_cancer(return_X_y=True)\n",
    "Y=tar.reshape(569,)\n",
    "X = bc.astype(float)\n",
    "print (X.shape)\n",
    "print (Y.shape)\n",
    "scaler = StandardScaler()\n",
    "scaler.fit(X)\n",
    "X=scaler.transform(X)"
   ]
  },
  {
   "cell_type": "code",
   "execution_count": 20,
   "metadata": {},
   "outputs": [],
   "source": [
    "\n",
    "# create model\n",
    "model = Sequential()\n",
    "model.add(Dense(30, input_dim=30, kernel_initializer='normal', activation='relu'))\n",
    "model.add(Dense(1, kernel_initializer='normal', activation='sigmoid'))\n",
    "# Compile model\n",
    "epochs=50\n",
    "learning_rate=0.1\n",
    "decay_rate =learning_rate / epochs\n",
    "sgd = SGD(lr=learning_rate, momentum=0.8, decay=decay_rate, nesterov=False)\n",
    "model.compile(loss='binary_crossentropy', optimizer=sgd, metrics=['accuracy'])\n",
    "\n"
   ]
  },
  {
   "cell_type": "code",
   "execution_count": 21,
   "metadata": {},
   "outputs": [
    {
     "name": "stdout",
     "output_type": "stream",
     "text": [
      "Train on 381 samples, validate on 188 samples\n",
      "Epoch 1/50\n",
      "0s - loss: 0.5575 - acc: 0.7874 - val_loss: 0.2762 - val_acc: 0.9574\n",
      "Epoch 2/50\n",
      "0s - loss: 0.1435 - acc: 0.9606 - val_loss: 0.0799 - val_acc: 0.9840\n",
      "Epoch 3/50\n",
      "0s - loss: 0.0809 - acc: 0.9685 - val_loss: 0.0789 - val_acc: 0.9894\n",
      "Epoch 4/50\n",
      "0s - loss: 0.0710 - acc: 0.9738 - val_loss: 0.0769 - val_acc: 0.9840\n",
      "Epoch 5/50\n",
      "0s - loss: 0.0627 - acc: 0.9764 - val_loss: 0.0773 - val_acc: 0.9734\n",
      "Epoch 6/50\n",
      "0s - loss: 0.0583 - acc: 0.9790 - val_loss: 0.0767 - val_acc: 0.9734\n",
      "Epoch 7/50\n",
      "0s - loss: 0.0560 - acc: 0.9843 - val_loss: 0.0723 - val_acc: 0.9734\n",
      "Epoch 8/50\n",
      "0s - loss: 0.0532 - acc: 0.9816 - val_loss: 0.0809 - val_acc: 0.9734\n",
      "Epoch 9/50\n",
      "0s - loss: 0.0516 - acc: 0.9843 - val_loss: 0.0795 - val_acc: 0.9734\n",
      "Epoch 10/50\n",
      "0s - loss: 0.0478 - acc: 0.9843 - val_loss: 0.0806 - val_acc: 0.9734\n",
      "Epoch 11/50\n",
      "0s - loss: 0.0460 - acc: 0.9843 - val_loss: 0.0755 - val_acc: 0.9734\n",
      "Epoch 12/50\n",
      "0s - loss: 0.0448 - acc: 0.9869 - val_loss: 0.0766 - val_acc: 0.9681\n",
      "Epoch 13/50\n",
      "0s - loss: 0.0439 - acc: 0.9869 - val_loss: 0.0745 - val_acc: 0.9681\n",
      "Epoch 14/50\n",
      "0s - loss: 0.0417 - acc: 0.9869 - val_loss: 0.0807 - val_acc: 0.9681\n",
      "Epoch 15/50\n",
      "0s - loss: 0.0394 - acc: 0.9869 - val_loss: 0.0760 - val_acc: 0.9681\n",
      "Epoch 16/50\n",
      "0s - loss: 0.0380 - acc: 0.9869 - val_loss: 0.0771 - val_acc: 0.9681\n",
      "Epoch 17/50\n",
      "0s - loss: 0.0369 - acc: 0.9869 - val_loss: 0.0773 - val_acc: 0.9681\n",
      "Epoch 18/50\n",
      "0s - loss: 0.0355 - acc: 0.9895 - val_loss: 0.0779 - val_acc: 0.9681\n",
      "Epoch 19/50\n",
      "0s - loss: 0.0346 - acc: 0.9869 - val_loss: 0.0753 - val_acc: 0.9681\n",
      "Epoch 20/50\n",
      "0s - loss: 0.0335 - acc: 0.9895 - val_loss: 0.0762 - val_acc: 0.9681\n",
      "Epoch 21/50\n",
      "0s - loss: 0.0325 - acc: 0.9895 - val_loss: 0.0793 - val_acc: 0.9681\n",
      "Epoch 22/50\n",
      "0s - loss: 0.0326 - acc: 0.9895 - val_loss: 0.0745 - val_acc: 0.9681\n",
      "Epoch 23/50\n",
      "0s - loss: 0.0319 - acc: 0.9895 - val_loss: 0.0760 - val_acc: 0.9681\n",
      "Epoch 24/50\n",
      "0s - loss: 0.0302 - acc: 0.9895 - val_loss: 0.0735 - val_acc: 0.9681\n",
      "Epoch 25/50\n",
      "0s - loss: 0.0294 - acc: 0.9895 - val_loss: 0.0793 - val_acc: 0.9681\n",
      "Epoch 26/50\n",
      "0s - loss: 0.0296 - acc: 0.9895 - val_loss: 0.0774 - val_acc: 0.9681\n",
      "Epoch 27/50\n",
      "0s - loss: 0.0283 - acc: 0.9895 - val_loss: 0.0754 - val_acc: 0.9681\n",
      "Epoch 28/50\n",
      "0s - loss: 0.0281 - acc: 0.9895 - val_loss: 0.0711 - val_acc: 0.9681\n",
      "Epoch 29/50\n",
      "0s - loss: 0.0271 - acc: 0.9895 - val_loss: 0.0759 - val_acc: 0.9681\n",
      "Epoch 30/50\n",
      "0s - loss: 0.0265 - acc: 0.9895 - val_loss: 0.0749 - val_acc: 0.9681\n",
      "Epoch 31/50\n",
      "0s - loss: 0.0254 - acc: 0.9895 - val_loss: 0.0790 - val_acc: 0.9681\n",
      "Epoch 32/50\n",
      "0s - loss: 0.0250 - acc: 0.9895 - val_loss: 0.0804 - val_acc: 0.9681\n",
      "Epoch 33/50\n",
      "0s - loss: 0.0248 - acc: 0.9895 - val_loss: 0.0784 - val_acc: 0.9681\n",
      "Epoch 34/50\n",
      "0s - loss: 0.0242 - acc: 0.9921 - val_loss: 0.0762 - val_acc: 0.9681\n",
      "Epoch 35/50\n",
      "0s - loss: 0.0239 - acc: 0.9895 - val_loss: 0.0762 - val_acc: 0.9681\n",
      "Epoch 36/50\n",
      "0s - loss: 0.0228 - acc: 0.9921 - val_loss: 0.0785 - val_acc: 0.9681\n",
      "Epoch 37/50\n",
      "0s - loss: 0.0229 - acc: 0.9921 - val_loss: 0.0776 - val_acc: 0.9681\n",
      "Epoch 38/50\n",
      "0s - loss: 0.0227 - acc: 0.9895 - val_loss: 0.0761 - val_acc: 0.9681\n",
      "Epoch 39/50\n",
      "0s - loss: 0.0221 - acc: 0.9921 - val_loss: 0.0799 - val_acc: 0.9681\n",
      "Epoch 40/50\n",
      "0s - loss: 0.0215 - acc: 0.9921 - val_loss: 0.0780 - val_acc: 0.9681\n",
      "Epoch 41/50\n",
      "0s - loss: 0.0215 - acc: 0.9921 - val_loss: 0.0788 - val_acc: 0.9681\n",
      "Epoch 42/50\n",
      "0s - loss: 0.0213 - acc: 0.9921 - val_loss: 0.0836 - val_acc: 0.9681\n",
      "Epoch 43/50\n",
      "0s - loss: 0.0205 - acc: 0.9921 - val_loss: 0.0756 - val_acc: 0.9681\n",
      "Epoch 44/50\n",
      "0s - loss: 0.0201 - acc: 0.9921 - val_loss: 0.0781 - val_acc: 0.9681\n",
      "Epoch 45/50\n",
      "0s - loss: 0.0201 - acc: 0.9921 - val_loss: 0.0733 - val_acc: 0.9681\n",
      "Epoch 46/50\n",
      "0s - loss: 0.0204 - acc: 0.9921 - val_loss: 0.0762 - val_acc: 0.9681\n",
      "Epoch 47/50\n",
      "0s - loss: 0.0198 - acc: 0.9921 - val_loss: 0.0766 - val_acc: 0.9681\n",
      "Epoch 48/50\n",
      "0s - loss: 0.0189 - acc: 0.9921 - val_loss: 0.0759 - val_acc: 0.9681\n",
      "Epoch 49/50\n",
      "0s - loss: 0.0187 - acc: 0.9921 - val_loss: 0.0772 - val_acc: 0.9681\n",
      "Epoch 50/50\n",
      "0s - loss: 0.0187 - acc: 0.9921 - val_loss: 0.0775 - val_acc: 0.9681\n"
     ]
    },
    {
     "data": {
      "text/plain": [
       "<keras.callbacks.History at 0x11a75db38>"
      ]
     },
     "execution_count": 21,
     "metadata": {},
     "output_type": "execute_result"
    }
   ],
   "source": [
    "model.fit(X, Y, validation_split=0.33, epochs=epochs, batch_size=28, verbose=2)"
   ]
  },
  {
   "cell_type": "code",
   "execution_count": null,
   "metadata": {
    "collapsed": true
   },
   "outputs": [],
   "source": []
  }
 ],
 "metadata": {
  "kernelspec": {
   "display_name": "Python 3",
   "language": "python",
   "name": "python3"
  },
  "language_info": {
   "codemirror_mode": {
    "name": "ipython",
    "version": 3
   },
   "file_extension": ".py",
   "mimetype": "text/x-python",
   "name": "python",
   "nbconvert_exporter": "python",
   "pygments_lexer": "ipython3",
   "version": "3.6.1"
  }
 },
 "nbformat": 4,
 "nbformat_minor": 2
}
