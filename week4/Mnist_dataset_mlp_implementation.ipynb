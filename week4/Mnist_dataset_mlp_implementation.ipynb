{
 "cells": [
  {
   "cell_type": "code",
   "execution_count": 1,
   "metadata": {},
   "outputs": [
    {
     "name": "stderr",
     "output_type": "stream",
     "text": [
      "Using TensorFlow backend.\n"
     ]
    }
   ],
   "source": [
    "\n",
    "import numpy\n",
    "from keras.datasets import mnist\n",
    "from keras.models import Sequential\n",
    "from keras.layers import Dense\n",
    "from keras.layers import Dropout\n",
    "from keras.utils import np_utils\n",
    "import keras"
   ]
  },
  {
   "cell_type": "code",
   "execution_count": 2,
   "metadata": {
    "collapsed": true
   },
   "outputs": [],
   "source": [
    "# fix random seed for reproducibility\n",
    "seed = 7\n",
    "numpy.random.seed(seed)"
   ]
  },
  {
   "cell_type": "code",
   "execution_count": 3,
   "metadata": {},
   "outputs": [
    {
     "name": "stdout",
     "output_type": "stream",
     "text": [
      "x_train shape: (60000, 784)\n",
      "(60000, 784)\n",
      "(10000, 784)\n"
     ]
    }
   ],
   "source": [
    "(x_train, y_train), (x_test, y_test) = mnist.load_data()\n",
    "\n",
    "# reshape the data into a 4D tensor - (sample_number, x_img_size, y_img_size, num_channels)\n",
    "# because the MNIST is greyscale, we only have a single channel - RGB colour images would have 3\n",
    "x_train = x_train.reshape(x_train.shape[0], 784).astype('float32')\n",
    "x_test = x_test.reshape(x_test.shape[0], 784).astype('float32')\n",
    "\n",
    "x_train /= 255\n",
    "x_test /= 255\n",
    "print('x_train shape:', x_train.shape)\n",
    "print(x_train.shape)\n",
    "print(x_test.shape)"
   ]
  },
  {
   "cell_type": "code",
   "execution_count": 4,
   "metadata": {},
   "outputs": [],
   "source": [
    "num_classes = 10\n",
    "y_train = keras.utils.to_categorical(y_train, num_classes)\n",
    "y_test = keras.utils.to_categorical(y_test, num_classes)"
   ]
  },
  {
   "cell_type": "code",
   "execution_count": 5,
   "metadata": {
    "collapsed": true
   },
   "outputs": [],
   "source": [
    "\n",
    "# define baseline model\n",
    "def mlp_model():\n",
    "\t# create model\n",
    "\tmodel = Sequential()\n",
    "\tmodel.add(Dense(784, input_dim=784, kernel_initializer='normal', activation='relu'))\n",
    "\tmodel.add(Dense(num_classes, kernel_initializer='normal', activation='softmax'))\n",
    "\t# Compile model\n",
    "\tmodel.compile(loss='categorical_crossentropy', optimizer='adam', metrics=['accuracy'])\n",
    "\treturn model\n"
   ]
  },
  {
   "cell_type": "code",
   "execution_count": 6,
   "metadata": {},
   "outputs": [
    {
     "name": "stdout",
     "output_type": "stream",
     "text": [
      "Train on 60000 samples, validate on 10000 samples\n",
      "Epoch 1/10\n",
      "4s - loss: 0.2805 - acc: 0.9207 - val_loss: 0.1422 - val_acc: 0.9571\n",
      "Epoch 2/10\n",
      "4s - loss: 0.1118 - acc: 0.9674 - val_loss: 0.0926 - val_acc: 0.9705\n",
      "Epoch 3/10\n",
      "5s - loss: 0.0716 - acc: 0.9797 - val_loss: 0.0784 - val_acc: 0.9779\n",
      "Epoch 4/10\n",
      "4s - loss: 0.0502 - acc: 0.9857 - val_loss: 0.0749 - val_acc: 0.9764\n",
      "Epoch 5/10\n",
      "4s - loss: 0.0372 - acc: 0.9893 - val_loss: 0.0679 - val_acc: 0.9785\n",
      "Epoch 6/10\n",
      "5s - loss: 0.0268 - acc: 0.9926 - val_loss: 0.0634 - val_acc: 0.9805\n",
      "Epoch 7/10\n",
      "4s - loss: 0.0207 - acc: 0.9948 - val_loss: 0.0621 - val_acc: 0.9807\n",
      "Epoch 8/10\n",
      "4s - loss: 0.0141 - acc: 0.9969 - val_loss: 0.0634 - val_acc: 0.9804\n",
      "Epoch 9/10\n",
      "5s - loss: 0.0107 - acc: 0.9978 - val_loss: 0.0586 - val_acc: 0.9816\n",
      "Epoch 10/10\n",
      "5s - loss: 0.0082 - acc: 0.9984 - val_loss: 0.0596 - val_acc: 0.9810\n",
      "mlp Error: 1.90%\n"
     ]
    }
   ],
   "source": [
    "# build the model\n",
    "model = mlp_model()\n",
    "# Fit the model\n",
    "model.fit(x_train, y_train, validation_data=(x_test, y_test), epochs=10, batch_size=200, verbose=2)\n",
    "# Final evaluation of the model\n",
    "scores = model.evaluate(x_test, y_test, verbose=0)\n",
    "print(\"mlp Error: %.2f%%\" % (100-scores[1]*100))"
   ]
  },
  {
   "cell_type": "code",
   "execution_count": null,
   "metadata": {
    "collapsed": true
   },
   "outputs": [],
   "source": []
  }
 ],
 "metadata": {
  "kernelspec": {
   "display_name": "Python 3",
   "language": "python",
   "name": "python3"
  },
  "language_info": {
   "codemirror_mode": {
    "name": "ipython",
    "version": 3
   },
   "file_extension": ".py",
   "mimetype": "text/x-python",
   "name": "python",
   "nbconvert_exporter": "python",
   "pygments_lexer": "ipython3",
   "version": "3.6.1"
  }
 },
 "nbformat": 4,
 "nbformat_minor": 2
}
