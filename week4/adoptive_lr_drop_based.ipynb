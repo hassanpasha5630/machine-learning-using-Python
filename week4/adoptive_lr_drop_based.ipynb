{
 "cells": [
  {
   "cell_type": "code",
   "execution_count": 7,
   "metadata": {},
   "outputs": [],
   "source": [
    "import numpy\n",
    "import pandas as pd\n",
    "from keras.models import Sequential\n",
    "from keras.layers import Dense\n",
    "from keras.wrappers.scikit_learn import KerasClassifier\n",
    "from sklearn.model_selection import cross_val_score\n",
    "from sklearn.preprocessing import LabelEncoder\n",
    "from sklearn.model_selection import StratifiedKFold\n",
    "from sklearn.preprocessing import StandardScaler\n",
    "from sklearn.pipeline import Pipeline\n",
    "from keras.optimizers import SGD\n",
    "from keras.callbacks import LearningRateScheduler\n",
    "import math\n"
   ]
  },
  {
   "cell_type": "code",
   "execution_count": 2,
   "metadata": {
    "collapsed": true
   },
   "outputs": [],
   "source": [
    "# fix random seed for reproducibility\n",
    "seed = 7\n",
    "numpy.random.seed(seed)"
   ]
  },
  {
   "cell_type": "code",
   "execution_count": 9,
   "metadata": {},
   "outputs": [
    {
     "name": "stdout",
     "output_type": "stream",
     "text": [
      "(569, 30)\n",
      "(569,)\n"
     ]
    }
   ],
   "source": [
    "#load dataset\n",
    "from sklearn.datasets import load_breast_cancer\n",
    "bc,tar = load_breast_cancer(return_X_y=True)\n",
    "Y=tar.reshape(569,)\n",
    "X = bc.astype(float)\n",
    "print (X.shape)\n",
    "print (Y.shape) \n",
    "scaler = StandardScaler()\n",
    "scaler.fit(X)\n",
    "X=scaler.transform(X)"
   ]
  },
  {
   "cell_type": "code",
   "execution_count": 10,
   "metadata": {
    "collapsed": true
   },
   "outputs": [],
   "source": [
    "#drop-based adoptive learning rate\n",
    "def step_decay(epoch):\n",
    "\tinitial_lrate = 0.1\n",
    "\tdrop = 0.5\n",
    "\tepochs_drop = 10.0\n",
    "\tlrate = initial_lrate * math.pow(drop, math.floor((1+epoch)/epochs_drop))\n",
    "\treturn lrate"
   ]
  },
  {
   "cell_type": "code",
   "execution_count": 11,
   "metadata": {
    "collapsed": true
   },
   "outputs": [],
   "source": [
    "\n",
    "\n",
    "# create model\n",
    "model = Sequential()\n",
    "model.add(Dense(30, input_dim=30, kernel_initializer='normal', activation='relu'))\n",
    "model.add(Dense(1, kernel_initializer='normal', activation='sigmoid'))\n",
    "# Compile model\n",
    "epochs=50\n",
    "learning_rate=0.1\n",
    "decay_rate = learning_rate / epochs\n",
    "sgd = SGD(lr=learning_rate, momentum=0.8, decay=decay_rate, nesterov=False)\n",
    "model.compile(loss='binary_crossentropy', optimizer=sgd, metrics=['accuracy'])\n",
    "\n",
    "# learning schedule callback\n",
    "lrate = LearningRateScheduler(step_decay)\n",
    "callbacks_list = [lrate]"
   ]
  },
  {
   "cell_type": "code",
   "execution_count": 12,
   "metadata": {},
   "outputs": [
    {
     "name": "stdout",
     "output_type": "stream",
     "text": [
      "Train on 381 samples, validate on 188 samples\n",
      "Epoch 1/50\n",
      "0s - loss: 0.5082 - acc: 0.8478 - val_loss: 0.2135 - val_acc: 0.9521\n",
      "Epoch 2/50\n",
      "0s - loss: 0.1388 - acc: 0.9580 - val_loss: 0.0813 - val_acc: 0.9894\n",
      "Epoch 3/50\n",
      "0s - loss: 0.0833 - acc: 0.9685 - val_loss: 0.0804 - val_acc: 0.9840\n",
      "Epoch 4/50\n",
      "0s - loss: 0.0723 - acc: 0.9764 - val_loss: 0.0769 - val_acc: 0.9840\n",
      "Epoch 5/50\n",
      "0s - loss: 0.0637 - acc: 0.9711 - val_loss: 0.0774 - val_acc: 0.9787\n",
      "Epoch 6/50\n",
      "0s - loss: 0.0608 - acc: 0.9790 - val_loss: 0.0764 - val_acc: 0.9840\n",
      "Epoch 7/50\n",
      "0s - loss: 0.0557 - acc: 0.9816 - val_loss: 0.0750 - val_acc: 0.9840\n",
      "Epoch 8/50\n",
      "0s - loss: 0.0528 - acc: 0.9816 - val_loss: 0.0757 - val_acc: 0.9840\n",
      "Epoch 9/50\n",
      "0s - loss: 0.0502 - acc: 0.9843 - val_loss: 0.0742 - val_acc: 0.9840\n",
      "Epoch 10/50\n",
      "0s - loss: 0.0476 - acc: 0.9843 - val_loss: 0.0676 - val_acc: 0.9840\n",
      "Epoch 11/50\n",
      "0s - loss: 0.0461 - acc: 0.9843 - val_loss: 0.0691 - val_acc: 0.9840\n",
      "Epoch 12/50\n",
      "0s - loss: 0.0450 - acc: 0.9869 - val_loss: 0.0717 - val_acc: 0.9840\n",
      "Epoch 13/50\n",
      "0s - loss: 0.0440 - acc: 0.9869 - val_loss: 0.0704 - val_acc: 0.9840\n",
      "Epoch 14/50\n",
      "0s - loss: 0.0431 - acc: 0.9869 - val_loss: 0.0749 - val_acc: 0.9840\n",
      "Epoch 15/50\n",
      "0s - loss: 0.0423 - acc: 0.9869 - val_loss: 0.0732 - val_acc: 0.9840\n",
      "Epoch 16/50\n",
      "0s - loss: 0.0414 - acc: 0.9869 - val_loss: 0.0789 - val_acc: 0.9787\n",
      "Epoch 17/50\n",
      "0s - loss: 0.0410 - acc: 0.9869 - val_loss: 0.0800 - val_acc: 0.9787\n",
      "Epoch 18/50\n",
      "0s - loss: 0.0404 - acc: 0.9869 - val_loss: 0.0740 - val_acc: 0.9840\n",
      "Epoch 19/50\n",
      "0s - loss: 0.0395 - acc: 0.9869 - val_loss: 0.0778 - val_acc: 0.9787\n",
      "Epoch 20/50\n",
      "0s - loss: 0.0384 - acc: 0.9869 - val_loss: 0.0752 - val_acc: 0.9840\n",
      "Epoch 21/50\n",
      "0s - loss: 0.0380 - acc: 0.9869 - val_loss: 0.0747 - val_acc: 0.9840\n",
      "Epoch 22/50\n",
      "0s - loss: 0.0376 - acc: 0.9869 - val_loss: 0.0751 - val_acc: 0.9787\n",
      "Epoch 23/50\n",
      "0s - loss: 0.0374 - acc: 0.9869 - val_loss: 0.0750 - val_acc: 0.9787\n",
      "Epoch 24/50\n",
      "0s - loss: 0.0373 - acc: 0.9869 - val_loss: 0.0729 - val_acc: 0.9840\n",
      "Epoch 25/50\n",
      "0s - loss: 0.0372 - acc: 0.9869 - val_loss: 0.0743 - val_acc: 0.9787\n",
      "Epoch 26/50\n",
      "0s - loss: 0.0368 - acc: 0.9869 - val_loss: 0.0756 - val_acc: 0.9734\n",
      "Epoch 27/50\n",
      "0s - loss: 0.0365 - acc: 0.9869 - val_loss: 0.0747 - val_acc: 0.9787\n",
      "Epoch 28/50\n",
      "0s - loss: 0.0361 - acc: 0.9869 - val_loss: 0.0761 - val_acc: 0.9734\n",
      "Epoch 29/50\n",
      "0s - loss: 0.0362 - acc: 0.9869 - val_loss: 0.0735 - val_acc: 0.9787\n",
      "Epoch 30/50\n",
      "0s - loss: 0.0356 - acc: 0.9869 - val_loss: 0.0762 - val_acc: 0.9734\n",
      "Epoch 31/50\n",
      "0s - loss: 0.0354 - acc: 0.9869 - val_loss: 0.0755 - val_acc: 0.9734\n",
      "Epoch 32/50\n",
      "0s - loss: 0.0352 - acc: 0.9869 - val_loss: 0.0759 - val_acc: 0.9734\n",
      "Epoch 33/50\n",
      "0s - loss: 0.0351 - acc: 0.9869 - val_loss: 0.0755 - val_acc: 0.9734\n",
      "Epoch 34/50\n",
      "0s - loss: 0.0350 - acc: 0.9869 - val_loss: 0.0755 - val_acc: 0.9734\n",
      "Epoch 35/50\n",
      "0s - loss: 0.0350 - acc: 0.9869 - val_loss: 0.0756 - val_acc: 0.9734\n",
      "Epoch 36/50\n",
      "0s - loss: 0.0348 - acc: 0.9869 - val_loss: 0.0751 - val_acc: 0.9734\n",
      "Epoch 37/50\n",
      "0s - loss: 0.0347 - acc: 0.9869 - val_loss: 0.0757 - val_acc: 0.9734\n",
      "Epoch 38/50\n",
      "0s - loss: 0.0347 - acc: 0.9869 - val_loss: 0.0753 - val_acc: 0.9734\n",
      "Epoch 39/50\n",
      "0s - loss: 0.0346 - acc: 0.9869 - val_loss: 0.0757 - val_acc: 0.9734\n",
      "Epoch 40/50\n",
      "0s - loss: 0.0344 - acc: 0.9869 - val_loss: 0.0752 - val_acc: 0.9734\n",
      "Epoch 41/50\n",
      "0s - loss: 0.0345 - acc: 0.9869 - val_loss: 0.0763 - val_acc: 0.9734\n",
      "Epoch 42/50\n",
      "0s - loss: 0.0343 - acc: 0.9869 - val_loss: 0.0760 - val_acc: 0.9734\n",
      "Epoch 43/50\n",
      "0s - loss: 0.0343 - acc: 0.9869 - val_loss: 0.0759 - val_acc: 0.9734\n",
      "Epoch 44/50\n",
      "0s - loss: 0.0342 - acc: 0.9869 - val_loss: 0.0759 - val_acc: 0.9734\n",
      "Epoch 45/50\n",
      "0s - loss: 0.0341 - acc: 0.9869 - val_loss: 0.0761 - val_acc: 0.9734\n",
      "Epoch 46/50\n",
      "0s - loss: 0.0341 - acc: 0.9869 - val_loss: 0.0760 - val_acc: 0.9734\n",
      "Epoch 47/50\n",
      "0s - loss: 0.0340 - acc: 0.9869 - val_loss: 0.0759 - val_acc: 0.9734\n",
      "Epoch 48/50\n",
      "0s - loss: 0.0340 - acc: 0.9869 - val_loss: 0.0759 - val_acc: 0.9734\n",
      "Epoch 49/50\n",
      "0s - loss: 0.0340 - acc: 0.9869 - val_loss: 0.0757 - val_acc: 0.9734\n",
      "Epoch 50/50\n",
      "0s - loss: 0.0339 - acc: 0.9869 - val_loss: 0.0759 - val_acc: 0.9734\n"
     ]
    },
    {
     "data": {
      "text/plain": [
       "<keras.callbacks.History at 0x11b688a90>"
      ]
     },
     "execution_count": 12,
     "metadata": {},
     "output_type": "execute_result"
    }
   ],
   "source": [
    "model.fit(X, Y, validation_split=0.33, epochs=50, batch_size=28, callbacks=callbacks_list, verbose=2)"
   ]
  },
  {
   "cell_type": "code",
   "execution_count": null,
   "metadata": {
    "collapsed": true
   },
   "outputs": [],
   "source": []
  }
 ],
 "metadata": {
  "kernelspec": {
   "display_name": "Python 3",
   "language": "python",
   "name": "python3"
  },
  "language_info": {
   "codemirror_mode": {
    "name": "ipython",
    "version": 3
   },
   "file_extension": ".py",
   "mimetype": "text/x-python",
   "name": "python",
   "nbconvert_exporter": "python",
   "pygments_lexer": "ipython3",
   "version": "3.6.1"
  }
 },
 "nbformat": 4,
 "nbformat_minor": 2
}
