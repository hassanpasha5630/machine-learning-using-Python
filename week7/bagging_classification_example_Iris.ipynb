{
 "cells": [
  {
   "cell_type": "code",
   "execution_count": 56,
   "metadata": {
    "collapsed": true
   },
   "outputs": [],
   "source": [
    "from sklearn.ensemble import BaggingClassifier\n",
    "from sklearn import tree\n",
    "from sklearn import datasets\n",
    "from sklearn import model_selection\n",
    "from sklearn.model_selection import train_test_split\n",
    "from sklearn.utils import shuffle\n",
    "from sklearn.metrics import classification_report"
   ]
  },
  {
   "cell_type": "code",
   "execution_count": null,
   "metadata": {
    "collapsed": true
   },
   "outputs": [],
   "source": []
  },
  {
   "cell_type": "code",
   "execution_count": 57,
   "metadata": {},
   "outputs": [
    {
     "name": "stdout",
     "output_type": "stream",
     "text": [
      "7.9\n",
      "(150,)\n"
     ]
    }
   ],
   "source": [
    "iris = datasets.load_iris()\n",
    "X = iris.data[:, :2] # we only take the first two features.\n",
    "y = iris.target\n",
    "print (X.max())\n",
    "print (y.shape)"
   ]
  },
  {
   "cell_type": "code",
   "execution_count": 91,
   "metadata": {},
   "outputs": [
    {
     "name": "stdout",
     "output_type": "stream",
     "text": [
      "             precision    recall  f1-score   support\n",
      "\n",
      "          0       1.00      0.88      0.93        16\n",
      "          1       0.58      0.78      0.67         9\n",
      "          2       0.75      0.69      0.72        13\n",
      "\n",
      "avg / total       0.82      0.79      0.80        38\n",
      "\n"
     ]
    }
   ],
   "source": [
    "####perform classification with train-test split####\n",
    "X, y = shuffle(X, y, random_state=0)\n",
    "\n",
    "# Split the dataset in two equal parts\n",
    "X_train, X_test, y_train, y_test = train_test_split(X, y, test_size=0.25, random_state=0)\n",
    "bagging = BaggingClassifier(tree.DecisionTreeClassifier(),n_estimators=200,oob_score=True,max_samples=0.5, max_features=0.5).fit(X_train,y_train)\n",
    "Results=bagging.predict(X_test)\n",
    "print (classification_report(Results,y_test))\n"
   ]
  },
  {
   "cell_type": "code",
   "execution_count": 82,
   "metadata": {},
   "outputs": [
    {
     "name": "stdout",
     "output_type": "stream",
     "text": [
      "0.726666666667\n"
     ]
    }
   ],
   "source": [
    "###perform classification with cross-validation####\n",
    "X, y = shuffle(X, y, random_state=0)\n",
    "bagging = BaggingClassifier(tree.DecisionTreeClassifier(),n_estimators=300,oob_score=True,max_samples=0.5, max_features=0.5).fit(X_train,y_train)\n",
    "results = model_selection.cross_val_score(bagging, X, y, cv=5)\n",
    "print (results.mean())"
   ]
  },
  {
   "cell_type": "code",
   "execution_count": null,
   "metadata": {
    "collapsed": true
   },
   "outputs": [],
   "source": []
  },
  {
   "cell_type": "code",
   "execution_count": null,
   "metadata": {
    "collapsed": true
   },
   "outputs": [],
   "source": []
  }
 ],
 "metadata": {
  "kernelspec": {
   "display_name": "Python 3",
   "language": "python",
   "name": "python3"
  },
  "language_info": {
   "codemirror_mode": {
    "name": "ipython",
    "version": 3
   },
   "file_extension": ".py",
   "mimetype": "text/x-python",
   "name": "python",
   "nbconvert_exporter": "python",
   "pygments_lexer": "ipython3",
   "version": "3.6.1"
  }
 },
 "nbformat": 4,
 "nbformat_minor": 2
}
