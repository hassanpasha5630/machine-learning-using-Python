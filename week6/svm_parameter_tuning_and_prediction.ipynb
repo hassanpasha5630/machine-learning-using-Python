{
 "cells": [
  {
   "cell_type": "code",
   "execution_count": 10,
   "metadata": {},
   "outputs": [],
   "source": [
    "import pandas as pd\n",
    "import numpy as np\n",
    "from sklearn import svm, datasets\n",
    "import matplotlib.pyplot as plt\n",
    "%matplotlib inline\n",
    "from sklearn.model_selection import train_test_split\n",
    "from sklearn.model_selection import GridSearchCV\n",
    "from sklearn.metrics import classification_report\n",
    "from sklearn.utils import shuffle\n"
   ]
  },
  {
   "cell_type": "code",
   "execution_count": 19,
   "metadata": {},
   "outputs": [
    {
     "name": "stdout",
     "output_type": "stream",
     "text": [
      "(150, 4)\n",
      "# Tuning hyper-parameters\n",
      "\n",
      "Best parameters set found on development set:\n",
      "\n",
      "{'C': 10, 'gamma': 0.1, 'kernel': 'rbf'}\n",
      "\n",
      "Grid scores on training set:\n",
      "\n",
      "0.696 (+/-0.003) for {'C': 1, 'gamma': 0.0001, 'kernel': 'rbf'}\n",
      "0.696 (+/-0.003) for {'C': 1, 'gamma': 0.001, 'kernel': 'rbf'}\n",
      "0.929 (+/-0.117) for {'C': 1, 'gamma': 0.01, 'kernel': 'rbf'}\n",
      "0.964 (+/-0.102) for {'C': 1, 'gamma': 0.1, 'kernel': 'rbf'}\n",
      "0.973 (+/-0.105) for {'C': 1, 'gamma': 0.2, 'kernel': 'rbf'}\n",
      "0.973 (+/-0.105) for {'C': 1, 'gamma': 0.5, 'kernel': 'rbf'}\n",
      "0.696 (+/-0.003) for {'C': 10, 'gamma': 0.0001, 'kernel': 'rbf'}\n",
      "0.929 (+/-0.117) for {'C': 10, 'gamma': 0.001, 'kernel': 'rbf'}\n",
      "0.964 (+/-0.102) for {'C': 10, 'gamma': 0.01, 'kernel': 'rbf'}\n",
      "0.991 (+/-0.035) for {'C': 10, 'gamma': 0.1, 'kernel': 'rbf'}\n",
      "0.973 (+/-0.105) for {'C': 10, 'gamma': 0.2, 'kernel': 'rbf'}\n",
      "0.973 (+/-0.105) for {'C': 10, 'gamma': 0.5, 'kernel': 'rbf'}\n",
      "0.929 (+/-0.117) for {'C': 100, 'gamma': 0.0001, 'kernel': 'rbf'}\n",
      "0.964 (+/-0.102) for {'C': 100, 'gamma': 0.001, 'kernel': 'rbf'}\n",
      "0.982 (+/-0.070) for {'C': 100, 'gamma': 0.01, 'kernel': 'rbf'}\n",
      "0.973 (+/-0.070) for {'C': 100, 'gamma': 0.1, 'kernel': 'rbf'}\n",
      "0.973 (+/-0.070) for {'C': 100, 'gamma': 0.2, 'kernel': 'rbf'}\n",
      "0.964 (+/-0.065) for {'C': 100, 'gamma': 0.5, 'kernel': 'rbf'}\n",
      "0.964 (+/-0.102) for {'C': 1000, 'gamma': 0.0001, 'kernel': 'rbf'}\n",
      "0.991 (+/-0.035) for {'C': 1000, 'gamma': 0.001, 'kernel': 'rbf'}\n",
      "0.982 (+/-0.043) for {'C': 1000, 'gamma': 0.01, 'kernel': 'rbf'}\n",
      "0.973 (+/-0.070) for {'C': 1000, 'gamma': 0.1, 'kernel': 'rbf'}\n",
      "0.973 (+/-0.070) for {'C': 1000, 'gamma': 0.2, 'kernel': 'rbf'}\n",
      "0.964 (+/-0.065) for {'C': 1000, 'gamma': 0.5, 'kernel': 'rbf'}\n",
      "0.982 (+/-0.070) for {'C': 1, 'kernel': 'linear'}\n",
      "0.982 (+/-0.070) for {'C': 10, 'kernel': 'linear'}\n",
      "0.982 (+/-0.043) for {'C': 100, 'kernel': 'linear'}\n",
      "0.982 (+/-0.043) for {'C': 1000, 'kernel': 'linear'}\n",
      "0.982 (+/-0.070) for {'C': 1, 'degree': 2, 'kernel': 'poly'}\n",
      "0.964 (+/-0.102) for {'C': 1, 'degree': 3, 'kernel': 'poly'}\n",
      "0.964 (+/-0.102) for {'C': 1, 'degree': 4, 'kernel': 'poly'}\n",
      "0.964 (+/-0.102) for {'C': 10, 'degree': 2, 'kernel': 'poly'}\n",
      "0.964 (+/-0.102) for {'C': 10, 'degree': 3, 'kernel': 'poly'}\n",
      "0.964 (+/-0.102) for {'C': 10, 'degree': 4, 'kernel': 'poly'}\n",
      "0.964 (+/-0.102) for {'C': 100, 'degree': 2, 'kernel': 'poly'}\n",
      "0.964 (+/-0.102) for {'C': 100, 'degree': 3, 'kernel': 'poly'}\n",
      "0.964 (+/-0.102) for {'C': 100, 'degree': 4, 'kernel': 'poly'}\n",
      "0.964 (+/-0.102) for {'C': 1000, 'degree': 2, 'kernel': 'poly'}\n",
      "0.964 (+/-0.102) for {'C': 1000, 'degree': 3, 'kernel': 'poly'}\n",
      "0.964 (+/-0.102) for {'C': 1000, 'degree': 4, 'kernel': 'poly'}\n",
      "\n"
     ]
    }
   ],
   "source": [
    "iris = datasets.load_iris()\n",
    "X = iris.data[:, :4] # we only take the first two features.\n",
    "y = iris.target\n",
    "print (X.shape)\n",
    "\n",
    "X, y = shuffle(X, y, random_state=0)\n",
    "\n",
    "# Split the dataset in two equal parts\n",
    "X_train, X_test, y_train, y_test = train_test_split(\n",
    "    X, y, test_size=0.25, random_state=0)\n",
    "\n",
    "# Set the parameters by cross-validation\n",
    "parameters = [{'kernel': ['rbf'],\n",
    "               'gamma': [1e-4, 1e-3, 0.01, 0.1, 0.2, 0.5],\n",
    "                'C': [1, 10, 100, 1000]},\n",
    "              {'kernel': ['linear'], 'C': [1, 10, 100, 1000]},\n",
    "              {'kernel': ['poly'],'C': [1,10,100,1000],'degree':[2, 3, 4]}]\n",
    "\n",
    "print(\"# Tuning hyper-parameters\")\n",
    "print()\n",
    "\n",
    "clf = GridSearchCV(svm.SVC(decision_function_shape='ovr'), parameters, cv=5)\n",
    "clf.fit(X_train, y_train)\n",
    "\n",
    "print(\"Best parameters set found on development set:\")\n",
    "print()\n",
    "print(clf.best_params_)\n",
    "print()\n",
    "print(\"Grid scores on training set:\")\n",
    "print()\n",
    "means = clf.cv_results_['mean_test_score']\n",
    "stds = clf.cv_results_['std_test_score']\n",
    "for mean, std, params in zip(means, stds, clf.cv_results_['params']):\n",
    "    print(\"%0.3f (+/-%0.03f) for %r\"\n",
    "          % (mean, std * 2, params))\n",
    "print()"
   ]
  },
  {
   "cell_type": "code",
   "execution_count": null,
   "metadata": {
    "collapsed": true
   },
   "outputs": [],
   "source": []
  }
 ],
 "metadata": {
  "kernelspec": {
   "display_name": "Python 3",
   "language": "python",
   "name": "python3"
  },
  "language_info": {
   "codemirror_mode": {
    "name": "ipython",
    "version": 3
   },
   "file_extension": ".py",
   "mimetype": "text/x-python",
   "name": "python",
   "nbconvert_exporter": "python",
   "pygments_lexer": "ipython3",
   "version": "3.6.1"
  }
 },
 "nbformat": 4,
 "nbformat_minor": 2
}
